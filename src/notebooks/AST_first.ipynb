{
 "cells": [
  {
   "cell_type": "code",
   "execution_count": 1,
   "id": "initial_id",
   "metadata": {
    "ExecuteTime": {
     "end_time": "2024-04-28T16:20:55.857353Z",
     "start_time": "2024-04-28T16:20:55.840083Z"
    },
    "collapsed": true
   },
   "outputs": [],
   "source": [
    "import sys\n",
    "sys.path.append(\"..\")\n",
    "import torch\n",
    "from torch.utils.data import DataLoader\n",
    "from transformers import AutoFeatureExtractor, ASTForAudioClassification\n",
    "from settings import ALL_CLASSES"
   ]
  },
  {
   "cell_type": "code",
   "execution_count": 11,
   "id": "268826bcc102ff06",
   "metadata": {
    "ExecuteTime": {
     "end_time": "2024-04-28T16:19:12.125496Z",
     "start_time": "2024-04-28T16:19:11.935358Z"
    }
   },
   "outputs": [],
   "source": [
    "dataset, labels = torch.load(\"C:/Users/Filip/Desktop/PW/2 semestr/Deep Learning/pro2/MINI_DL_RNN/src/artifacts/speech-waveform-v0/validation.pt\")\n",
    "device = torch.device(\"cuda\" if torch.cuda.is_available() else \"cpu\")"
   ]
  },
  {
   "cell_type": "code",
   "execution_count": 16,
   "id": "5eec7734",
   "metadata": {},
   "outputs": [
    {
     "data": {
      "text/plain": [
       "torch.Size([6704, 16000])"
      ]
     },
     "execution_count": 16,
     "metadata": {},
     "output_type": "execute_result"
    }
   ],
   "source": [
    "dataset.shape"
   ]
  },
  {
   "cell_type": "code",
   "execution_count": 3,
   "id": "9656f3e19a5f81",
   "metadata": {
    "ExecuteTime": {
     "end_time": "2024-04-28T16:19:12.163607Z",
     "start_time": "2024-04-28T16:19:12.126661Z"
    }
   },
   "outputs": [],
   "source": [
    "from transformers import WhisperProcessor, WhisperForConditionalGeneration"
   ]
  },
  {
   "cell_type": "code",
   "execution_count": 14,
   "id": "57430f89",
   "metadata": {},
   "outputs": [],
   "source": [
    "from transformers import ASTConfig, ASTForAudioClassification\n",
    "\n",
    "# Load the configuration of the AST model\n",
    "config = ASTConfig.from_pretrained(\"MIT/ast-finetuned-audioset-10-10-0.4593\")\n",
    "\n",
    "# Modify the configuration to adjust the number of labels\n",
    "config.num_labels = 12  # Set this to the number of your classes\n",
    "\n",
    "# Now load the model with the updated configuration\n",
    "model = ASTForAudioClassification(config)\n"
   ]
  },
  {
   "cell_type": "code",
   "execution_count": 18,
   "id": "ebc32a0e",
   "metadata": {},
   "outputs": [
    {
     "name": "stderr",
     "output_type": "stream",
     "text": [
      "Validating: 100%|██████████| 419/419 [3:45:20<00:00, 32.27s/batch]  "
     ]
    },
    {
     "name": "stdout",
     "output_type": "stream",
     "text": [
      "Validation Accuracy: 0.5894988066825776\n"
     ]
    },
    {
     "name": "stderr",
     "output_type": "stream",
     "text": [
      "\n"
     ]
    }
   ],
   "source": [
    "import torch\n",
    "from torch.utils.data import TensorDataset, DataLoader\n",
    "from transformers import ASTConfig, ASTForAudioClassification, ASTFeatureExtractor\n",
    "from tqdm import tqdm\n",
    "\n",
    "# Assuming 'dataset' and 'labels' are already loaded\n",
    "tensor_dataset = TensorDataset(dataset, labels)\n",
    "\n",
    "# DataLoader\n",
    "batch_size = 16\n",
    "data_loader = DataLoader(tensor_dataset, batch_size=batch_size, shuffle=False)\n",
    "\n",
    "# Feature Extractor\n",
    "feature_extractor = ASTFeatureExtractor.from_pretrained(\"MIT/ast-finetuned-audioset-10-10-0.4593\")\n",
    "\n",
    "# Load model and move to device\n",
    "model.to(device)\n",
    "model.eval()\n",
    "\n",
    "# Function to preprocess, perform inference, and calculate accuracy\n",
    "def validate_model(data_loader, model, device):\n",
    "    all_predictions = []\n",
    "    correct_predictions = 0\n",
    "    total_samples = 0\n",
    "\n",
    "    for inputs, labels in tqdm(data_loader, desc=\"Validating\", unit=\"batch\"):\n",
    "        # Convert waveform to log Mel spectrogram\n",
    "        inputs = feature_extractor(inputs.numpy(), return_tensors=\"pt\", sampling_rate=16000).input_values\n",
    "        inputs = inputs.to(device)\n",
    "        labels = labels.to(device)\n",
    "\n",
    "        with torch.no_grad():\n",
    "            outputs = model(inputs)\n",
    "            logits = outputs.logits\n",
    "            predictions = torch.argmax(logits, dim=-1)\n",
    "            all_predictions.extend(predictions.cpu().numpy())\n",
    "\n",
    "            # Calculate accuracy\n",
    "            correct_predictions += (predictions == labels).sum().item()\n",
    "            total_samples += labels.size(0)\n",
    "\n",
    "    accuracy = correct_predictions / total_samples\n",
    "    return all_predictions, accuracy\n",
    "\n",
    "# Run validation\n",
    "predictions, accuracy = validate_model(data_loader, model, device)\n",
    "print(\"Validation Accuracy:\", accuracy)\n"
   ]
  },
  {
   "cell_type": "markdown",
   "id": "16ed50ec",
   "metadata": {},
   "source": [
    "# Tu koniec"
   ]
  },
  {
   "cell_type": "code",
   "execution_count": 12,
   "id": "296e192dc83923b6",
   "metadata": {
    "ExecuteTime": {
     "end_time": "2024-04-28T16:21:17.508472Z",
     "start_time": "2024-04-28T16:21:17.437334Z"
    }
   },
   "outputs": [],
   "source": [
    "input_features = processor(\n",
    "    dataset.numpy()[1005:1010], sampling_rate=16000, return_tensors=\"pt\"\n",
    ").input_features.to(device)"
   ]
  },
  {
   "cell_type": "code",
   "execution_count": 13,
   "id": "94d77b4cfbbd4ae6",
   "metadata": {
    "ExecuteTime": {
     "end_time": "2024-04-28T16:21:20.101080Z",
     "start_time": "2024-04-28T16:21:18.193423Z"
    }
   },
   "outputs": [],
   "source": [
    "predicted_ids = model.generate(input_features)"
   ]
  },
  {
   "cell_type": "code",
   "execution_count": 14,
   "id": "8fff2192fc212cf2",
   "metadata": {
    "ExecuteTime": {
     "end_time": "2024-04-28T16:21:22.124778Z",
     "start_time": "2024-04-28T16:21:22.113773Z"
    }
   },
   "outputs": [
    {
     "data": {
      "text/plain": [
       "[' left', ' Left', ' Left.', ' Left.', ' Who That?']"
      ]
     },
     "execution_count": 14,
     "metadata": {},
     "output_type": "execute_result"
    }
   ],
   "source": [
    "transcription = processor.batch_decode(predicted_ids, skip_special_tokens=True)\n",
    "transcription"
   ]
  },
  {
   "cell_type": "code",
   "execution_count": 15,
   "id": "f0cc9315de3c3f8e",
   "metadata": {
    "ExecuteTime": {
     "end_time": "2024-04-28T16:21:34.291069Z",
     "start_time": "2024-04-28T16:21:34.283727Z"
    }
   },
   "outputs": [
    {
     "data": {
      "text/plain": [
       "['left', 'left', 'left', 'left', 'left']"
      ]
     },
     "execution_count": 15,
     "metadata": {},
     "output_type": "execute_result"
    }
   ],
   "source": [
    "[ALL_CLASSES[val] for val in labels[1005:1010].squeeze()]"
   ]
  },
  {
   "cell_type": "code",
   "execution_count": null,
   "id": "7c1fa7b270836416",
   "metadata": {},
   "outputs": [],
   "source": []
  }
 ],
 "metadata": {
  "kernelspec": {
   "display_name": "Python 3",
   "language": "python",
   "name": "python3"
  },
  "language_info": {
   "codemirror_mode": {
    "name": "ipython",
    "version": 3
   },
   "file_extension": ".py",
   "mimetype": "text/x-python",
   "name": "python",
   "nbconvert_exporter": "python",
   "pygments_lexer": "ipython3",
   "version": "3.10.13"
  }
 },
 "nbformat": 4,
 "nbformat_minor": 5
}
