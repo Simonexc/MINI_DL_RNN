{
 "cells": [
  {
   "cell_type": "code",
   "id": "initial_id",
   "metadata": {
    "collapsed": true,
    "ExecuteTime": {
     "end_time": "2024-05-02T12:08:04.158328Z",
     "start_time": "2024-05-02T12:08:03.949582Z"
    }
   },
   "source": [
    "from transformers import ASTConfig, ASTForAudioClassification\n",
    "\n",
    "config = ASTConfig.from_pretrained(\"MIT/ast-finetuned-audioset-10-10-0.4593\")"
   ],
   "outputs": [],
   "execution_count": 10
  },
  {
   "metadata": {
    "ExecuteTime": {
     "end_time": "2024-05-02T12:08:21.827357Z",
     "start_time": "2024-05-02T12:08:21.824420Z"
    }
   },
   "cell_type": "code",
   "source": "config.name_or_path",
   "id": "ee4286e2ff25bbee",
   "outputs": [
    {
     "data": {
      "text/plain": [
       "''"
      ]
     },
     "execution_count": 11,
     "metadata": {},
     "output_type": "execute_result"
    }
   ],
   "execution_count": 11
  },
  {
   "metadata": {
    "ExecuteTime": {
     "end_time": "2024-05-02T12:10:19.010636Z",
     "start_time": "2024-05-02T12:10:19.005243Z"
    }
   },
   "cell_type": "code",
   "source": "config.to_json_file(\"config.json\")",
   "id": "d7b2c91223899178",
   "outputs": [],
   "execution_count": 13
  },
  {
   "metadata": {
    "ExecuteTime": {
     "end_time": "2024-05-02T12:14:11.899785Z",
     "start_time": "2024-05-02T12:14:01.100587Z"
    }
   },
   "cell_type": "code",
   "source": [
    "import wandb\n",
    "import sys\n",
    "sys.path.append(\"..\")\n",
    "from settings import PROJECT, ENTITY, JobType, ArtifactType\n",
    "\n",
    "with wandb.init(\n",
    "        project=PROJECT, entity=ENTITY, job_type=JobType.UPLOAD_CONFIG.value\n",
    ") as run:\n",
    "    artifact = wandb.Artifact(\n",
    "        \"ast-feature-extractor-config\",\n",
    "        type=ArtifactType.CONFIG_FILE.value,\n",
    "        description=\"AST feature extractor config file\",\n",
    "    )\n",
    "    artifact.add_file(\"config.json\", \"preprocessor_config.json\")\n",
    "    \n",
    "    run.log_artifact(artifact)\n",
    "    "
   ],
   "id": "2e45b4aed35b4b14",
   "outputs": [
    {
     "name": "stderr",
     "output_type": "stream",
     "text": [
      "\u001B[34m\u001B[1mwandb\u001B[0m: Currently logged in as: \u001B[33msimonexc\u001B[0m (\u001B[33mdl-mini\u001B[0m). Use \u001B[1m`wandb login --relogin`\u001B[0m to force relogin\n"
     ]
    },
    {
     "data": {
      "text/plain": [
       "<IPython.core.display.HTML object>"
      ],
      "text/html": [
       "Tracking run with wandb version 0.16.6"
      ]
     },
     "metadata": {},
     "output_type": "display_data"
    },
    {
     "data": {
      "text/plain": [
       "<IPython.core.display.HTML object>"
      ],
      "text/html": [
       "Run data is saved locally in <code>/home/simonexc/Documents/GitHub/MINI_DL_RNN/src/notebooks/wandb/run-20240502_141402-wc7lck4w</code>"
      ]
     },
     "metadata": {},
     "output_type": "display_data"
    },
    {
     "data": {
      "text/plain": [
       "<IPython.core.display.HTML object>"
      ],
      "text/html": [
       "Syncing run <strong><a href='https://wandb.ai/dl-mini/DL_PROJECT_RNN/runs/wc7lck4w' target=\"_blank\">zesty-flower-63</a></strong> to <a href='https://wandb.ai/dl-mini/DL_PROJECT_RNN' target=\"_blank\">Weights & Biases</a> (<a href='https://wandb.me/run' target=\"_blank\">docs</a>)<br/>"
      ]
     },
     "metadata": {},
     "output_type": "display_data"
    },
    {
     "data": {
      "text/plain": [
       "<IPython.core.display.HTML object>"
      ],
      "text/html": [
       " View project at <a href='https://wandb.ai/dl-mini/DL_PROJECT_RNN' target=\"_blank\">https://wandb.ai/dl-mini/DL_PROJECT_RNN</a>"
      ]
     },
     "metadata": {},
     "output_type": "display_data"
    },
    {
     "data": {
      "text/plain": [
       "<IPython.core.display.HTML object>"
      ],
      "text/html": [
       " View run at <a href='https://wandb.ai/dl-mini/DL_PROJECT_RNN/runs/wc7lck4w' target=\"_blank\">https://wandb.ai/dl-mini/DL_PROJECT_RNN/runs/wc7lck4w</a>"
      ]
     },
     "metadata": {},
     "output_type": "display_data"
    },
    {
     "data": {
      "text/plain": [
       "VBox(children=(Label(value='0.027 MB of 0.027 MB uploaded\\r'), FloatProgress(value=1.0, max=1.0)))"
      ],
      "application/vnd.jupyter.widget-view+json": {
       "version_major": 2,
       "version_minor": 0,
       "model_id": "ca7620c70a7e455ba76af092884b12c5"
      }
     },
     "metadata": {},
     "output_type": "display_data"
    },
    {
     "data": {
      "text/plain": [
       "<IPython.core.display.HTML object>"
      ],
      "text/html": [
       " View run <strong style=\"color:#cdcd00\">zesty-flower-63</strong> at: <a href='https://wandb.ai/dl-mini/DL_PROJECT_RNN/runs/wc7lck4w' target=\"_blank\">https://wandb.ai/dl-mini/DL_PROJECT_RNN/runs/wc7lck4w</a><br/> View project at: <a href='https://wandb.ai/dl-mini/DL_PROJECT_RNN' target=\"_blank\">https://wandb.ai/dl-mini/DL_PROJECT_RNN</a><br/>Synced 4 W&B file(s), 0 media file(s), 3 artifact file(s) and 0 other file(s)"
      ]
     },
     "metadata": {},
     "output_type": "display_data"
    },
    {
     "data": {
      "text/plain": [
       "<IPython.core.display.HTML object>"
      ],
      "text/html": [
       "Find logs at: <code>./wandb/run-20240502_141402-wc7lck4w/logs</code>"
      ]
     },
     "metadata": {},
     "output_type": "display_data"
    }
   ],
   "execution_count": 14
  },
  {
   "metadata": {},
   "cell_type": "code",
   "outputs": [],
   "execution_count": null,
   "source": "",
   "id": "e69e495be21e5c66"
  }
 ],
 "metadata": {
  "kernelspec": {
   "display_name": "Python 3",
   "language": "python",
   "name": "python3"
  },
  "language_info": {
   "codemirror_mode": {
    "name": "ipython",
    "version": 2
   },
   "file_extension": ".py",
   "mimetype": "text/x-python",
   "name": "python",
   "nbconvert_exporter": "python",
   "pygments_lexer": "ipython2",
   "version": "2.7.6"
  }
 },
 "nbformat": 4,
 "nbformat_minor": 5
}
