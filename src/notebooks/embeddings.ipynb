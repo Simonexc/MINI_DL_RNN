{
 "cells": [
  {
   "cell_type": "code",
   "id": "initial_id",
   "metadata": {
    "collapsed": true,
    "ExecuteTime": {
     "end_time": "2024-05-02T12:28:57.349446Z",
     "start_time": "2024-05-02T12:28:57.135365Z"
    }
   },
   "source": [
    "from transformers import ASTConfig, ASTForAudioClassification\n",
    "\n",
    "config = ASTConfig.from_pretrained(\"MIT/ast-finetuned-audioset-10-10-0.4593\")"
   ],
   "outputs": [],
   "execution_count": 16
  },
  {
   "metadata": {
    "ExecuteTime": {
     "end_time": "2024-05-02T12:08:21.827357Z",
     "start_time": "2024-05-02T12:08:21.824420Z"
    }
   },
   "cell_type": "code",
   "source": "config.name_or_path",
   "id": "ee4286e2ff25bbee",
   "outputs": [
    {
     "data": {
      "text/plain": [
       "''"
      ]
     },
     "execution_count": 11,
     "metadata": {},
     "output_type": "execute_result"
    }
   ],
   "execution_count": 11
  },
  {
   "metadata": {
    "ExecuteTime": {
     "end_time": "2024-05-02T13:01:56.399953Z",
     "start_time": "2024-05-02T13:01:56.120496Z"
    }
   },
   "cell_type": "code",
   "source": "config.to_json_file(\"config.json\")",
   "id": "d7b2c91223899178",
   "outputs": [
    {
     "ename": "NameError",
     "evalue": "name 'config' is not defined",
     "output_type": "error",
     "traceback": [
      "\u001B[0;31m---------------------------------------------------------------------------\u001B[0m",
      "\u001B[0;31mNameError\u001B[0m                                 Traceback (most recent call last)",
      "Cell \u001B[0;32mIn[2], line 1\u001B[0m\n\u001B[0;32m----> 1\u001B[0m \u001B[43mconfig\u001B[49m\u001B[38;5;241m.\u001B[39mto_json_file(\u001B[38;5;124m\"\u001B[39m\u001B[38;5;124mconfig.json\u001B[39m\u001B[38;5;124m\"\u001B[39m)\n",
      "\u001B[0;31mNameError\u001B[0m: name 'config' is not defined"
     ]
    }
   ],
   "execution_count": 2
  },
  {
   "metadata": {
    "ExecuteTime": {
     "end_time": "2024-05-02T12:29:50.475203Z",
     "start_time": "2024-05-02T12:29:32.531881Z"
    }
   },
   "cell_type": "code",
   "source": [
    "import wandb\n",
    "import sys\n",
    "sys.path.append(\"..\")\n",
    "from settings import PROJECT, ENTITY, JobType, ArtifactType\n",
    "\n",
    "with wandb.init(\n",
    "        project=PROJECT, entity=ENTITY, job_type=JobType.UPLOAD_CONFIG.value\n",
    ") as run:\n",
    "    artifact = wandb.Artifact(\n",
    "        \"ast-feature-extractor-config\",\n",
    "        type=ArtifactType.CONFIG_FILE.value,\n",
    "        description=\"AST feature extractor config file\",\n",
    "    )\n",
    "    artifact.add_file(\"config.json\", \"preprocessor_config.json\")\n",
    "    \n",
    "    run.log_artifact(artifact)\n",
    "    "
   ],
   "id": "2e45b4aed35b4b14",
   "outputs": [
    {
     "name": "stderr",
     "output_type": "stream",
     "text": [
      "\u001B[34m\u001B[1mwandb\u001B[0m: Currently logged in as: \u001B[33msimonexc\u001B[0m (\u001B[33mdl-mini\u001B[0m). Use \u001B[1m`wandb login --relogin`\u001B[0m to force relogin\n"
     ]
    },
    {
     "data": {
      "text/plain": [
       "<IPython.core.display.HTML object>"
      ],
      "text/html": [
       "Tracking run with wandb version 0.16.6"
      ]
     },
     "metadata": {},
     "output_type": "display_data"
    },
    {
     "data": {
      "text/plain": [
       "<IPython.core.display.HTML object>"
      ],
      "text/html": [
       "Run data is saved locally in <code>/home/simonexc/Documents/GitHub/MINI_DL_RNN/src/notebooks/wandb/run-20240502_142934-pct9hgf2</code>"
      ]
     },
     "metadata": {},
     "output_type": "display_data"
    },
    {
     "data": {
      "text/plain": [
       "<IPython.core.display.HTML object>"
      ],
      "text/html": [
       "Syncing run <strong><a href='https://wandb.ai/dl-mini/DL_PROJECT_RNN/runs/pct9hgf2' target=\"_blank\">swift-snow-66</a></strong> to <a href='https://wandb.ai/dl-mini/DL_PROJECT_RNN' target=\"_blank\">Weights & Biases</a> (<a href='https://wandb.me/run' target=\"_blank\">docs</a>)<br/>"
      ]
     },
     "metadata": {},
     "output_type": "display_data"
    },
    {
     "data": {
      "text/plain": [
       "<IPython.core.display.HTML object>"
      ],
      "text/html": [
       " View project at <a href='https://wandb.ai/dl-mini/DL_PROJECT_RNN' target=\"_blank\">https://wandb.ai/dl-mini/DL_PROJECT_RNN</a>"
      ]
     },
     "metadata": {},
     "output_type": "display_data"
    },
    {
     "data": {
      "text/plain": [
       "<IPython.core.display.HTML object>"
      ],
      "text/html": [
       " View run at <a href='https://wandb.ai/dl-mini/DL_PROJECT_RNN/runs/pct9hgf2' target=\"_blank\">https://wandb.ai/dl-mini/DL_PROJECT_RNN/runs/pct9hgf2</a>"
      ]
     },
     "metadata": {},
     "output_type": "display_data"
    },
    {
     "data": {
      "text/plain": [
       "VBox(children=(Label(value='0.027 MB of 0.027 MB uploaded (0.026 MB deduped)\\r'), FloatProgress(value=1.0, max…"
      ],
      "application/vnd.jupyter.widget-view+json": {
       "version_major": 2,
       "version_minor": 0,
       "model_id": "06c80fe4c2f14f1688c22adc29910df8"
      }
     },
     "metadata": {},
     "output_type": "display_data"
    },
    {
     "data": {
      "text/plain": [
       "<IPython.core.display.HTML object>"
      ],
      "text/html": [
       "W&B sync reduced upload amount by 83.6%             "
      ]
     },
     "metadata": {},
     "output_type": "display_data"
    },
    {
     "data": {
      "text/plain": [
       "<IPython.core.display.HTML object>"
      ],
      "text/html": [
       " View run <strong style=\"color:#cdcd00\">swift-snow-66</strong> at: <a href='https://wandb.ai/dl-mini/DL_PROJECT_RNN/runs/pct9hgf2' target=\"_blank\">https://wandb.ai/dl-mini/DL_PROJECT_RNN/runs/pct9hgf2</a><br/> View project at: <a href='https://wandb.ai/dl-mini/DL_PROJECT_RNN' target=\"_blank\">https://wandb.ai/dl-mini/DL_PROJECT_RNN</a><br/>Synced 4 W&B file(s), 0 media file(s), 1 artifact file(s) and 0 other file(s)"
      ]
     },
     "metadata": {},
     "output_type": "display_data"
    },
    {
     "data": {
      "text/plain": [
       "<IPython.core.display.HTML object>"
      ],
      "text/html": [
       "Find logs at: <code>./wandb/run-20240502_142934-pct9hgf2/logs</code>"
      ]
     },
     "metadata": {},
     "output_type": "display_data"
    }
   ],
   "execution_count": 1
  },
  {
   "metadata": {
    "ExecuteTime": {
     "end_time": "2024-05-02T13:13:22.967550Z",
     "start_time": "2024-05-02T13:13:22.762590Z"
    }
   },
   "cell_type": "code",
   "source": [
    "from transformers import ASTConfig, ASTForAudioClassification, ASTFeatureExtractor\n",
    "import sys\n",
    "sys.path.append(\"..\")\n",
    "from settings import NUM_CLASSES\n",
    "config = ASTConfig.from_pretrained(\"MIT/ast-finetuned-audioset-10-10-0.4593\")\n",
    "config.num_labels = NUM_CLASSES\n",
    "config.max_length = 100\n",
    "feature_extractor = ASTFeatureExtractor.from_dict(config.to_dict())"
   ],
   "id": "e69e495be21e5c66",
   "outputs": [],
   "execution_count": 13
  },
  {
   "metadata": {
    "ExecuteTime": {
     "end_time": "2024-05-02T13:13:23.561331Z",
     "start_time": "2024-05-02T13:13:23.484967Z"
    }
   },
   "cell_type": "code",
   "source": [
    "from dataset.training_dataset import SpeechDataset\n",
    "\n",
    "dataset = SpeechDataset(\"/home/simonexc/Documents/GitHub/MINI_DL_RNN/src/artifacts/speech-waveform:v0\", 10, None, None)"
   ],
   "id": "8f1be7f24507763a",
   "outputs": [],
   "execution_count": 14
  },
  {
   "metadata": {
    "ExecuteTime": {
     "end_time": "2024-05-02T13:13:27.675903Z",
     "start_time": "2024-05-02T13:13:24.253776Z"
    }
   },
   "cell_type": "code",
   "source": [
    "dataset.setup()\n",
    "x = dataset.train.tensors[0]\n",
    "x"
   ],
   "id": "c0a0d08e5ade44aa",
   "outputs": [
    {
     "data": {
      "text/plain": [
       "tensor([[ 5.1880e-04,  1.1597e-03,  1.3123e-03,  ...,  7.9346e-04,\n",
       "          1.1902e-03,  1.4954e-03],\n",
       "        [ 1.8646e-02,  2.4384e-02,  2.8320e-02,  ...,  3.0670e-02,\n",
       "          2.8564e-02,  2.3407e-02],\n",
       "        [-5.0659e-03, -6.9885e-03, -8.8196e-03,  ...,  1.0620e-02,\n",
       "          7.9041e-03,  7.0801e-03],\n",
       "        ...,\n",
       "        [ 7.5684e-03,  8.6365e-03,  7.4768e-03,  ...,  1.1780e-02,\n",
       "          1.2634e-02,  1.0040e-02],\n",
       "        [ 1.8311e-04,  2.7466e-04,  2.1362e-04,  ...,  7.9346e-04,\n",
       "          7.0190e-04,  4.5776e-04],\n",
       "        [ 9.1553e-05,  1.2207e-04, -1.2207e-04,  ...,  0.0000e+00,\n",
       "          1.2207e-04, -1.8311e-04]])"
      ]
     },
     "execution_count": 15,
     "metadata": {},
     "output_type": "execute_result"
    }
   ],
   "execution_count": 15
  },
  {
   "metadata": {
    "ExecuteTime": {
     "end_time": "2024-05-02T13:13:28.635712Z",
     "start_time": "2024-05-02T13:13:28.450833Z"
    }
   },
   "cell_type": "code",
   "source": "a = feature_extractor(x.numpy()[:1], sampling_rate=16000, return_tensors=\"pt\").input_values",
   "id": "de1f39138176afd5",
   "outputs": [],
   "execution_count": 16
  },
  {
   "metadata": {
    "ExecuteTime": {
     "end_time": "2024-05-02T13:13:29.227563Z",
     "start_time": "2024-05-02T13:13:29.224510Z"
    }
   },
   "cell_type": "code",
   "source": "a.shape",
   "id": "a9365f3bc5c90d03",
   "outputs": [
    {
     "data": {
      "text/plain": [
       "torch.Size([1, 100, 128])"
      ]
     },
     "execution_count": 17,
     "metadata": {},
     "output_type": "execute_result"
    }
   ],
   "execution_count": 17
  },
  {
   "metadata": {
    "ExecuteTime": {
     "end_time": "2024-05-02T13:14:30.853535Z",
     "start_time": "2024-05-02T13:14:30.834184Z"
    }
   },
   "cell_type": "code",
   "source": [
    "from transformers.models.audio_spectrogram_transformer.modeling_audio_spectrogram_transformer import ASTEmbeddings\n",
    "embedding = ASTEmbeddings(config)"
   ],
   "id": "5123436027a29d1f",
   "outputs": [],
   "execution_count": 19
  },
  {
   "metadata": {
    "ExecuteTime": {
     "end_time": "2024-05-02T13:14:56.544747Z",
     "start_time": "2024-05-02T13:14:56.467531Z"
    }
   },
   "cell_type": "code",
   "source": "e = embedding(a)",
   "id": "ed61d585b4986776",
   "outputs": [],
   "execution_count": 20
  },
  {
   "metadata": {
    "ExecuteTime": {
     "end_time": "2024-05-02T13:15:00.077285Z",
     "start_time": "2024-05-02T13:15:00.074573Z"
    }
   },
   "cell_type": "code",
   "source": "e.shape",
   "id": "fa7b9625d49a0df",
   "outputs": [
    {
     "data": {
      "text/plain": [
       "torch.Size([1, 110, 768])"
      ]
     },
     "execution_count": 21,
     "metadata": {},
     "output_type": "execute_result"
    }
   ],
   "execution_count": 21
  },
  {
   "metadata": {},
   "cell_type": "code",
   "outputs": [],
   "execution_count": null,
   "source": "",
   "id": "10aff88186af12f1"
  }
 ],
 "metadata": {
  "kernelspec": {
   "display_name": "Python 3",
   "language": "python",
   "name": "python3"
  },
  "language_info": {
   "codemirror_mode": {
    "name": "ipython",
    "version": 2
   },
   "file_extension": ".py",
   "mimetype": "text/x-python",
   "name": "python",
   "nbconvert_exporter": "python",
   "pygments_lexer": "ipython2",
   "version": "2.7.6"
  }
 },
 "nbformat": 4,
 "nbformat_minor": 5
}
